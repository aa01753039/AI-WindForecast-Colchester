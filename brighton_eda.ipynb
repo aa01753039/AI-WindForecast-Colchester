{
 "cells": [
  {
   "cell_type": "code",
   "execution_count": null,
   "metadata": {},
   "outputs": [],
   "source": [
    "#import libraries\n",
    "import pandas as pd\n",
    "import matplotlib.pyplot as plt"
   ]
  },
  {
   "cell_type": "code",
   "execution_count": null,
   "metadata": {},
   "outputs": [],
   "source": [
    "#read brighton data from csv\n",
    "brighton_df = pd.read_csv(\"data/brighton.csv\",parse_dates=['datetime'])\n",
    "brighton_df.head()\n"
   ]
  },
  {
   "cell_type": "code",
   "execution_count": null,
   "metadata": {},
   "outputs": [],
   "source": [
    "print(\"Number of brighton samples: \",brighton_df.shape[0])"
   ]
  },
  {
   "cell_type": "code",
   "execution_count": null,
   "metadata": {},
   "outputs": [],
   "source": [
    "#bring colums that contain letters in data and show what strings are those\n",
    "for column in brighton_df.columns:\n",
    "    #if an element of the unique list contains any letter print it\n",
    "    if column != 'datetime':\n",
    "        words=[element for element in brighton_df[column].unique() if any(char.isalpha() for char in str(element))]\n",
    "        print(\"Column: \",column,\"contains: \", words)\n",
    "\n",
    "#print the unique rows that contains the word \"temp\" in the column \"temp\"\n",
    "\n",
    "temp_rows = brighton_df[brighton_df['temp'].str.contains(\"temp\", na=False)]\n",
    "unique_temp_rows = temp_rows.drop_duplicates()\n",
    "print(unique_temp_rows)\n",
    "\n",
    "#drop row from brighton_df that contains the word \"temp\" in the column \"temp\"\n",
    "brighton_df = brighton_df[~brighton_df['temp'].str.contains(\"temp\", na=False)]\n",
    "#change datatypes of columns all columns to float except datetime they are in format \"5.7\",...\n",
    "brighton_df = brighton_df.apply(pd.to_numeric, errors='ignore')\n",
    "print(\"Brighton data types: \",brighton_df.dtypes)\n",
    "\n",
    "print(\"Brighton missing values: \",brighton_df.isnull().sum())\n",
    "#show rows with null temperature\n",
    "brighton_df[brighton_df['temp'].isnull()]\n",
    "\n",
    "# check id there are duplicated rows\n",
    "duplicated_rows = brighton_df[brighton_df.duplicated()]\n",
    "print(\"Duplicated rows: \",duplicated_rows)\n",
    "#remove rows with datetime = 0\n",
    "brighton_df = brighton_df[brighton_df['datetime'] != '0']\n",
    "print(\"Number of brighton samples: \",brighton_df.shape[0])\n",
    "#order data by datetime and use datetime as index\n",
    "brighton_df = brighton_df.sort_values(by='datetime')\n",
    "brighton_df = brighton_df.set_index('datetime')\n",
    "brighton_df.head()\n",
    "# see values of categeorical column preciptype\n",
    "print(\"PrecipType values: \",brighton_df['preciptype'].unique())\n",
    "# create dummy variables for categorical column preciptype and add them to the dataframe for the value \"rain,snow\" separate them into two columns(so at the end i will just have column snow and column rain)\n",
    "# split the combined categories into separate categories\n",
    "brighton_df['preciptype_rain'] = brighton_df['preciptype'].str.contains('rain')\n",
    "brighton_df['preciptype_snow'] = brighton_df['preciptype'].str.contains('snow')\n",
    "brighton_df.head()\n",
    "#fillna for preciptype_rain and preciptype_snow witht the value False\n",
    "brighton_df['preciptype_rain'] = brighton_df['preciptype_rain'].fillna(False)  \n",
    "brighton_df['preciptype_snow'] = brighton_df['preciptype_snow'].fillna(False)\n",
    "brighton_df.head()\n",
    "# replace true and false with 1 and 0\n",
    "brighton_df['preciptype_rain'] = brighton_df['preciptype_rain'].astype(int)\n",
    "brighton_df['preciptype_snow'] = brighton_df['preciptype_snow'].astype(int)\n",
    "#remove column preciptype\n",
    "brighton_df = brighton_df.drop(columns=['preciptype'])\n",
    "brighton_df.describe()"
   ]
  },
  {
   "cell_type": "code",
   "execution_count": null,
   "metadata": {},
   "outputs": [],
   "source": [
    "# Set the index of 'brighton_df' to a DatetimeIndex\n",
    "brighton_df.index = pd.to_datetime(brighton_df.index)\n",
    "\n",
    "\n",
    "# Resample and plot the average temperature by month\n",
    "brighton_df.resample('M').mean()['temp'].plot(figsize=(15, 5))\n",
    "# plot the average windspeed by month and show months on x axis\n",
    "brighton_df.resample('M').mean()['windspeed'].plot(figsize=(15, 5))\n",
    "\n",
    "# plot the average precipitation by month and show months on x axis\n",
    "brighton_df.resample('M').mean()['precip'].plot(figsize=(15, 5))"
   ]
  }
 ],
 "metadata": {
  "language_info": {
   "name": "python"
  }
 },
 "nbformat": 4,
 "nbformat_minor": 2
}
